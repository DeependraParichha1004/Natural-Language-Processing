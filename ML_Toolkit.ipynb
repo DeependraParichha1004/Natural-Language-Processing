{
  "nbformat": 4,
  "nbformat_minor": 5,
  "metadata": {
    "kernelspec": {
      "display_name": "Python 3",
      "language": "python",
      "name": "python3"
    },
    "language_info": {
      "codemirror_mode": {
        "name": "ipython",
        "version": 3
      },
      "file_extension": ".py",
      "mimetype": "text/x-python",
      "name": "python",
      "nbconvert_exporter": "python",
      "pygments_lexer": "ipython3",
      "version": "3.8.8"
    },
    "colab": {
      "provenance": [],
      "include_colab_link": true
    }
  },
  "cells": [
    {
      "cell_type": "markdown",
      "metadata": {
        "id": "view-in-github",
        "colab_type": "text"
      },
      "source": [
        "<a href=\"https://colab.research.google.com/github/DeependraParichha1004/NLP/blob/main/ML_Toolkit.ipynb\" target=\"_parent\"><img src=\"https://colab.research.google.com/assets/colab-badge.svg\" alt=\"Open In Colab\"/></a>"
      ]
    },
    {
      "cell_type": "markdown",
      "source": [
        "<img alt=\"The image is displaying the types of machine learning models with various machine learning algorithms.\" class=\"images\" src=\"https://lh5.googleusercontent.com/tsxsuHdTixFaQXyy49gwvMGGnO5rfq86-RMTrjaOgHkg7x8rjmFmEIlaSCexGuYm3oUh4Wx8KYkLeKCQ3g9t_svonY9euo1HAx-nyAvYKQMFufCQn1CvDuT3xgV61hLq-G21aHkr\" style=\"height: 468px; width: 624px; user-select: auto;\" title=\"Machine Learning Algorithms chart\">"
      ],
      "metadata": {
        "id": "hNE5gkNkfQoO"
      },
      "id": "hNE5gkNkfQoO"
    },
    {
      "cell_type": "markdown",
      "metadata": {
        "id": "5ec64071"
      },
      "source": [
        "<center><h1>PreProcessing</h1></center> "
      ],
      "id": "5ec64071"
    },
    {
      "cell_type": "markdown",
      "metadata": {
        "id": "b4aa9bcc"
      },
      "source": [
        "# -- Importing Important Modules"
      ],
      "id": "b4aa9bcc"
    },
    {
      "cell_type": "code",
      "metadata": {
        "id": "9d92e4a4"
      },
      "source": [
        "import numpy as np\n",
        "import pandas as pd\n",
        "import matplotlib.pyplot as plt\n",
        "import tensorflow as tf\n",
        "import seaborn as sb\n",
        "import os\n",
        "import zipfile"
      ],
      "id": "9d92e4a4",
      "execution_count": null,
      "outputs": []
    },
    {
      "cell_type": "markdown",
      "metadata": {
        "id": "638846bb"
      },
      "source": [
        "# -- Working With Missing Features "
      ],
      "id": "638846bb"
    },
    {
      "cell_type": "markdown",
      "metadata": {
        "id": "57b58dcf"
      },
      "source": [
        "## (1) Highly Recommended "
      ],
      "id": "57b58dcf"
    },
    {
      "cell_type": "code",
      "metadata": {
        "id": "a90f8089"
      },
      "source": [
        "#get all the features(rows) of all r attribute with missing values from whole dataset\n",
        "missing_value_rows=dataset_name[dataset_name.isnull().any(axis=1)].head()#head() is optional\n",
        "\n",
        "#generate the median of that attribute\n",
        "median=dataset_name['attribute_name'].median()\n",
        "\n",
        "#fill that median into the missing feature values\n",
        "dataset_name['attribute_name'].fillna(median,inplace=True)"
      ],
      "id": "a90f8089",
      "execution_count": null,
      "outputs": []
    },
    {
      "cell_type": "code",
      "metadata": {
        "id": "61a760c2"
      },
      "source": [
        "#fillna = missing_value_rows.fillna(value=dataset_name, method=None, axis=None, inplace=False, limit=None, downcast=None)\n",
        "#Fill NA/NaN values using the specified method."
      ],
      "id": "61a760c2",
      "execution_count": null,
      "outputs": []
    },
    {
      "cell_type": "code",
      "metadata": {
        "id": "at2K3qOvKI5Z"
      },
      "source": [
        "new_dataset = dataset.fillna({'Column_1':'value_1','Column_2':'value_2'})"
      ],
      "id": "at2K3qOvKI5Z",
      "execution_count": null,
      "outputs": []
    },
    {
      "cell_type": "markdown",
      "metadata": {
        "id": "f899bc94"
      },
      "source": [
        "## use of inplace"
      ],
      "id": "f899bc94"
    },
    {
      "cell_type": "code",
      "metadata": {
        "id": "e7ef3010"
      },
      "source": [
        "use of inplace\n",
        "\n",
        "if inplace = True # operation is performed and nothing is returned.\n",
        "\n",
        "if inplace = False # operation is performed and it returns a new copy of data."
      ],
      "id": "e7ef3010",
      "execution_count": null,
      "outputs": []
    },
    {
      "cell_type": "markdown",
      "metadata": {
        "id": "3a3dcdd5"
      },
      "source": [
        "# OR"
      ],
      "id": "3a3dcdd5"
    },
    {
      "cell_type": "markdown",
      "metadata": {
        "id": "43a3a693"
      },
      "source": [
        "## (2)"
      ],
      "id": "43a3a693"
    },
    {
      "cell_type": "code",
      "metadata": {
        "id": "852ae0e9"
      },
      "source": [
        "#Another approach is to use SimpleImputer class \n",
        "from sklearn.impute import SimpleImputer\n",
        "\n",
        "#instance of the class to specify which method(strategy) to use\n",
        "imputer=SimpleImputer(strategy='median')\n",
        "\n",
        "#NOTE - It is safer to apply the imputer to all the numerical attributes\n",
        "#fit the instance to the training data\n",
        "imputer.fit('dataset_name')\n",
        "\n",
        "#transform the training set by replacing missing values with learned medians\n",
        "dataset_name=imputer.transform('dataset_name')"
      ],
      "id": "852ae0e9",
      "execution_count": null,
      "outputs": []
    },
    {
      "cell_type": "markdown",
      "metadata": {
        "id": "c36f35d5"
      },
      "source": [
        "# -- Dropping a Column"
      ],
      "id": "c36f35d5"
    },
    {
      "cell_type": "markdown",
      "metadata": {
        "id": "dce93dfe"
      },
      "source": [
        "## (1)"
      ],
      "id": "dce93dfe"
    },
    {
      "cell_type": "code",
      "metadata": {
        "id": "20e5898f"
      },
      "source": [
        "drop_dataset=dataset_name.drop(\"column_name\",axis=1)\n",
        "# Return new object with labels in requested axis removed.\n",
        "# in other words create a copy and doesn't affect the original data"
      ],
      "id": "20e5898f",
      "execution_count": null,
      "outputs": []
    },
    {
      "cell_type": "markdown",
      "metadata": {
        "id": "6d7ea074"
      },
      "source": [
        "## (2)"
      ],
      "id": "6d7ea074"
    },
    {
      "cell_type": "code",
      "metadata": {
        "id": "cb968fa2"
      },
      "source": [
        "drop_dataset=dataset_name.dropna(\"column_name\",axis=1)\n",
        "# Return object with labels on given axis omitted where alternately any or all of the data are missing"
      ],
      "id": "cb968fa2",
      "execution_count": null,
      "outputs": []
    },
    {
      "cell_type": "markdown",
      "metadata": {
        "id": "780c72a8"
      },
      "source": [
        "# -- A trick when you want to flatten a matrix X of shape (a,b,c,d) to a matrix X_flatten of shape (b ∗ c ∗ d, a) is to use:\n",
        "\n"
      ],
      "id": "780c72a8"
    },
    {
      "cell_type": "code",
      "metadata": {
        "id": "10ff4bd3"
      },
      "source": [
        "X_flatten = X.reshape(X.shape[0], -1).T      # X.T is the transpose of X"
      ],
      "id": "10ff4bd3",
      "execution_count": null,
      "outputs": []
    },
    {
      "cell_type": "markdown",
      "metadata": {
        "id": "b66043eb"
      },
      "source": [
        "# -- Fetching dataset from openml(open source Library)"
      ],
      "id": "b66043eb"
    },
    {
      "cell_type": "code",
      "metadata": {
        "id": "c99678e6"
      },
      "source": [
        "from sklearn.datasets import fetch_openml\n",
        "mnist=fetch_openml('dataset_name',version=1,as_frame=False)\n",
        "dataset_name\n",
        "#     ^\n",
        "#     |\n",
        "# Dictionary Structure"
      ],
      "id": "c99678e6",
      "execution_count": null,
      "outputs": []
    },
    {
      "cell_type": "markdown",
      "metadata": {
        "id": "05fc0e14"
      },
      "source": [
        "# -- value_counts()"
      ],
      "id": "05fc0e14"
    },
    {
      "cell_type": "code",
      "metadata": {
        "id": "02fdb6a7"
      },
      "source": [
        "# This method Gives you the frequency of the values"
      ],
      "id": "02fdb6a7",
      "execution_count": null,
      "outputs": []
    },
    {
      "cell_type": "markdown",
      "metadata": {
        "id": "TFJEg9eZgshb"
      },
      "source": [
        "# -- datetime"
      ],
      "id": "TFJEg9eZgshb"
    },
    {
      "cell_type": "code",
      "metadata": {
        "id": "qxZl1Pd2g0WJ"
      },
      "source": [
        "# code\n",
        "\n",
        "dataset[feature]=pd.to_datetime(dataset[feature])"
      ],
      "id": "qxZl1Pd2g0WJ",
      "execution_count": null,
      "outputs": []
    },
    {
      "cell_type": "markdown",
      "metadata": {
        "id": "IpAKpJLbrLqD"
      },
      "source": [
        "# -- str.split()"
      ],
      "id": "IpAKpJLbrLqD"
    },
    {
      "cell_type": "code",
      "metadata": {
        "id": "Ne8s-3CZrUjq"
      },
      "source": [
        "# code \n",
        "\n",
        "ex - players['height']=players['height'].str.split('-').str[0].astype(int)"
      ],
      "id": "Ne8s-3CZrUjq",
      "execution_count": null,
      "outputs": []
    },
    {
      "cell_type": "markdown",
      "source": [
        "# pandas.DataFrame.query()"
      ],
      "metadata": {
        "id": "5mXO_8XIr5x8"
      },
      "id": "5mXO_8XIr5x8"
    },
    {
      "cell_type": "code",
      "source": [
        "Query the columns of a DataFrame with a boolean expression.\n",
        "\n",
        "dataset_name.query('column > 0')"
      ],
      "metadata": {
        "id": "-MYEGVnwr4D1"
      },
      "id": "-MYEGVnwr4D1",
      "execution_count": null,
      "outputs": []
    },
    {
      "cell_type": "markdown",
      "metadata": {
        "id": "755ef0a1"
      },
      "source": [
        "# -- Encoding categorical data"
      ],
      "id": "755ef0a1"
    },
    {
      "cell_type": "markdown",
      "metadata": {
        "id": "d0bbdb82"
      },
      "source": [
        "## (1) OneHotEncoder"
      ],
      "id": "d0bbdb82"
    },
    {
      "cell_type": "code",
      "metadata": {
        "id": "4b477052"
      },
      "source": [
        "from sklearn.compose import ColumnTransformer\n",
        "from sklearn.preprocesssng import OneHotEncoder\n",
        "ct=ColumnTransformer(transformers=[('encoder',OneHotEncoder(),column_name)],remainder=\"passthrough\")\n",
        "data_to_be_transformed=np.array(ct.fit_transform(data_to_be_transformed))#fit_transform doesn't return as numpy array "
      ],
      "id": "4b477052",
      "execution_count": null,
      "outputs": []
    },
    {
      "cell_type": "code",
      "metadata": {
        "id": "z62jt2pszwCj"
      },
      "source": [],
      "id": "z62jt2pszwCj",
      "execution_count": null,
      "outputs": []
    },
    {
      "cell_type": "markdown",
      "metadata": {
        "id": "5fbbe39e"
      },
      "source": [
        "## (2) LabelEncoder"
      ],
      "id": "5fbbe39e"
    },
    {
      "cell_type": "code",
      "metadata": {
        "id": "6ccef87c"
      },
      "source": [
        "from sklearn.preprocesssng import LabelEncoder\n",
        "le=LabelEncooder()\n",
        "labels=le.fit_transform(labels)#here labels mean target values (target column)"
      ],
      "id": "6ccef87c",
      "execution_count": null,
      "outputs": []
    },
    {
      "cell_type": "markdown",
      "metadata": {
        "id": "0778d34c"
      },
      "source": [
        "## (3) OrdinalEncoder"
      ],
      "id": "0778d34c"
    },
    {
      "cell_type": "code",
      "metadata": {
        "id": "61e2af0c"
      },
      "source": [
        "from sklearn.preprocesssng import OrdinalEncoder\n",
        "oe=OrdinalEncoder()\n",
        "cat_dataset=oe.fit_transform(cat_dataset)"
      ],
      "id": "61e2af0c",
      "execution_count": null,
      "outputs": []
    },
    {
      "cell_type": "markdown",
      "metadata": {
        "id": "bced0f93"
      },
      "source": [
        "# -- Generating Polynomial features"
      ],
      "id": "bced0f93"
    },
    {
      "cell_type": "code",
      "metadata": {
        "id": "7606be84"
      },
      "source": [
        "from sklearn.preprocessing import PolynomialFeatures\n",
        "poly = PolynomialFeatures(degree=4)\n",
        "poly_reg = poly.fit_transform(x)# Where x = independent variable\n",
        "# example 1,x**1,x**2,x**3,.... so on"
      ],
      "id": "7606be84",
      "execution_count": null,
      "outputs": []
    },
    {
      "cell_type": "markdown",
      "metadata": {
        "id": "SyiDWV_L5dnN"
      },
      "source": [
        "# -- Use of divmod(x,y)"
      ],
      "id": "SyiDWV_L5dnN"
    },
    {
      "cell_type": "code",
      "metadata": {
        "id": "13Og5QY35AG1"
      },
      "source": [
        "The divmod() method takes two numbers and returns a pair of numbers (a tuple) consisting of their quotient and remainder\n",
        "\n",
        "ex - y=0\n",
        "     for i in range(1,11):\n",
        "       i,j=divmod(y,5)\n",
        "       print(i,j)\n",
        "       y=y+1\n",
        "\n",
        "output -  0 0\n",
        "          0 1\n",
        "          0 2\n",
        "          0 3\n",
        "          0 4\n",
        "          1 0\n",
        "          1 1\n",
        "          1 2\n",
        "          1 3\n",
        "          1 4"
      ],
      "id": "13Og5QY35AG1",
      "execution_count": null,
      "outputs": []
    },
    {
      "cell_type": "markdown",
      "metadata": {
        "id": "ikHMP4hHFIWT"
      },
      "source": [
        "### -- pd.read_csv(error_bad_lines=True/False)"
      ],
      "id": "ikHMP4hHFIWT"
    },
    {
      "cell_type": "code",
      "metadata": {
        "id": "-_ff7VEwEV9t"
      },
      "source": [
        "pd.read_csv('dataset.csv',error_bad_lines=True/False)\n",
        "error_bad_lines:bool, default None\n",
        "\n",
        "Lines with too many fields (e.g. a csv line with too many commas)\n",
        " will by default cause an exception to be raised, and no DataFrame will be returned. \n",
        " If False, then these “bad lines” will be dropped from the DataFrame that is returned."
      ],
      "id": "-_ff7VEwEV9t",
      "execution_count": null,
      "outputs": []
    },
    {
      "cell_type": "markdown",
      "metadata": {
        "id": "c76f7a5e"
      },
      "source": [
        "# -- Inverse_transform()"
      ],
      "id": "c76f7a5e"
    },
    {
      "cell_type": "code",
      "metadata": {
        "id": "bacacf4e"
      },
      "source": [
        "# This function is used to reverse the transformation \n",
        "# Generally used in feature Scaling (or other Scaling)"
      ],
      "id": "bacacf4e",
      "execution_count": null,
      "outputs": []
    },
    {
      "cell_type": "code",
      "metadata": {
        "id": "55ba4c9c"
      },
      "source": [
        "inverse_transform(dataset)"
      ],
      "id": "55ba4c9c",
      "execution_count": null,
      "outputs": []
    },
    {
      "cell_type": "markdown",
      "metadata": {
        "id": "YDhzYf2scf1R"
      },
      "source": [
        "### -- Mean of columns of an array"
      ],
      "id": "YDhzYf2scf1R"
    },
    {
      "cell_type": "code",
      "metadata": {
        "colab": {
          "base_uri": "https://localhost:8080/"
        },
        "id": "hhfZmoeObtRM",
        "outputId": "3bbca4f7-9750-4bad-fd8d-8e75696a2297"
      },
      "source": [
        "import numpy as np\n",
        "a=np.array([[1,0,0,1,1],\n",
        "           [0,1,1,0,0],\n",
        "            [1,1,1,0,0]])\n",
        "a"
      ],
      "id": "hhfZmoeObtRM",
      "execution_count": null,
      "outputs": [
        {
          "output_type": "execute_result",
          "data": {
            "text/plain": [
              "array([[1, 0, 0, 1, 1],\n",
              "       [0, 1, 1, 0, 0],\n",
              "       [1, 1, 1, 0, 0]])"
            ]
          },
          "metadata": {},
          "execution_count": 1
        }
      ]
    },
    {
      "cell_type": "code",
      "metadata": {
        "colab": {
          "base_uri": "https://localhost:8080/"
        },
        "id": "Rl4PPQqhcDg3",
        "outputId": "cd872c57-5ae3-44f7-a1ed-c0345075ecd4"
      },
      "source": [
        "b=np.mean(np.column_stack(a),axis=1)\n",
        "b"
      ],
      "id": "Rl4PPQqhcDg3",
      "execution_count": null,
      "outputs": [
        {
          "output_type": "execute_result",
          "data": {
            "text/plain": [
              "array([0.66666667, 0.66666667, 0.66666667, 0.33333333, 0.33333333])"
            ]
          },
          "metadata": {},
          "execution_count": 2
        }
      ]
    },
    {
      "cell_type": "markdown",
      "metadata": {
        "id": "223bc789"
      },
      "source": [
        "#                                                -- Correlation"
      ],
      "id": "223bc789"
    },
    {
      "cell_type": "code",
      "metadata": {
        "id": "afc31082"
      },
      "source": [
        "# computing standard correlation coefficient(pearson's r)\n",
        "# it lies from -1 to 1\n",
        "# only measures linear correlations"
      ],
      "id": "afc31082",
      "execution_count": null,
      "outputs": []
    },
    {
      "cell_type": "markdown",
      "metadata": {
        "id": "fd386b6b"
      },
      "source": [
        "## (1) Numerical"
      ],
      "id": "fd386b6b"
    },
    {
      "cell_type": "code",
      "metadata": {
        "id": "47b1e85e"
      },
      "source": [
        "corr_matrix=dataset_name.corr()\n",
        "corr_matrix['feature_name'].value_counts()"
      ],
      "id": "47b1e85e",
      "execution_count": null,
      "outputs": []
    },
    {
      "cell_type": "markdown",
      "metadata": {
        "id": "6e1dd57d"
      },
      "source": [
        "## (2) Graphical"
      ],
      "id": "6e1dd57d"
    },
    {
      "cell_type": "code",
      "metadata": {
        "id": "74214d9b"
      },
      "source": [
        "from sklearn.plotting import scatter_matrix\n",
        "attributes=[.,.,.,..]#various attributes\n",
        "scatter_matrix(dataset[attributes])"
      ],
      "id": "74214d9b",
      "execution_count": null,
      "outputs": []
    },
    {
      "cell_type": "markdown",
      "metadata": {
        "id": "jVfPSTWQBTz1"
      },
      "source": [
        "## -- Alternate Method"
      ],
      "id": "jVfPSTWQBTz1"
    },
    {
      "cell_type": "code",
      "metadata": {
        "id": "CfkHEjFBAwuP"
      },
      "source": [
        "pearson_coefficient=dataset_name.corr(method='pearson')\n",
        "\n",
        "import seaborn as sb\n",
        "sb.heatmap(pearson_coefficient,cmap='RdBu_r',annot=True)"
      ],
      "id": "CfkHEjFBAwuP",
      "execution_count": null,
      "outputs": []
    },
    {
      "cell_type": "markdown",
      "metadata": {
        "id": "90EZajXMB48j"
      },
      "source": [
        "## -- OSM(OpenStreetMap)"
      ],
      "id": "90EZajXMB48j"
    },
    {
      "cell_type": "code",
      "metadata": {
        "id": "OsNzLSOSBULk"
      },
      "source": [
        "#Nominatim (from the Latin, 'by name') is a tool to search OSM data by name and \n",
        "#address (geocoding) and to generate synthetic addresses of OSM points (reverse geocoding).\n",
        "\n",
        "from from geopy.geocoders import Nominatim\n",
        "geolocator = Nominatim(user_agent=\"harsh\")\n",
        "geilocator.geocode('India') # output - Location(India, (22.3511148, 78.6677428, 0.0))"
      ],
      "id": "OsNzLSOSBULk",
      "execution_count": null,
      "outputs": []
    },
    {
      "cell_type": "markdown",
      "metadata": {
        "id": "uuqTlSbheflg"
      },
      "source": [
        "## -- Reading/Extracting csv file from a ZipFile"
      ],
      "id": "uuqTlSbheflg"
    },
    {
      "cell_type": "code",
      "metadata": {
        "id": "VviaXkckfE67"
      },
      "source": [
        "import zipfile\n",
        "import pandas as pd\n",
        "zip_file = zipfile.ZipFile(\"file_name\")\n",
        "df=pd.read_csv(zip_file.open('dataset_name.csv'))"
      ],
      "id": "VviaXkckfE67",
      "execution_count": null,
      "outputs": []
    },
    {
      "cell_type": "markdown",
      "metadata": {
        "id": "6f185357"
      },
      "source": [
        "# -- Image Representation of Confusion-matrix"
      ],
      "id": "6f185357"
    },
    {
      "cell_type": "code",
      "metadata": {
        "id": "962fba43"
      },
      "source": [
        "import matplotlib.pyplot as plt\n",
        "plt.show(cm,cmap=plt.cm.gray)\n",
        "plt.show()"
      ],
      "id": "962fba43",
      "execution_count": null,
      "outputs": []
    },
    {
      "cell_type": "markdown",
      "source": [
        "## -- pandas.shift()"
      ],
      "metadata": {
        "id": "KquJMLza3BHY"
      },
      "id": "KquJMLza3BHY"
    },
    {
      "cell_type": "code",
      "source": [
        "Pandas dataframe.shift() function Shift index by desired number of periods with an optional time freq.\n",
        "\n",
        "#Code\n",
        "dataset=dataset-dataset.shift(periods,freq)"
      ],
      "metadata": {
        "id": "MMaOKDuw3AAL"
      },
      "id": "MMaOKDuw3AAL",
      "execution_count": null,
      "outputs": []
    },
    {
      "cell_type": "markdown",
      "metadata": {
        "id": "af478898"
      },
      "source": [
        "# -- CountVectorizer"
      ],
      "id": "af478898"
    },
    {
      "cell_type": "code",
      "metadata": {
        "id": "cfa15ff4"
      },
      "source": [
        "#Convert a collection of text documents to a matrix of token counts\n",
        "from sklearn.feature_extraction.text import CountVectorizer\n",
        "cv=CountVectorizer()\n",
        "cv.fit_transform(corpus).toarray()# corpus - list of text"
      ],
      "id": "cfa15ff4",
      "execution_count": null,
      "outputs": []
    },
    {
      "cell_type": "markdown",
      "metadata": {
        "id": "UttoR0QegMQc"
      },
      "source": [
        "## -- Extracting Dataset From Kaggle(Directly)"
      ],
      "id": "UttoR0QegMQc"
    },
    {
      "cell_type": "code",
      "metadata": {
        "id": "fw6VbDiegZmH"
      },
      "source": [
        "import os\n",
        "os.environ['KAGGLE_CONFIG_DIR']='/content'\n",
        "!--API--"
      ],
      "id": "fw6VbDiegZmH",
      "execution_count": null,
      "outputs": []
    },
    {
      "cell_type": "code",
      "source": [
        "#creating kaggle.json using  username and key\n",
        "!mkdir ~/.kaggle\n",
        "!touch ~/.kaggle/kaggle.json\n",
        "api_token={\"username\":\"\",\"key\":\"\"}#in kaggle.json\n",
        "with open('/root/.kaggle/kaggle.json', 'w') as file:\n",
        "    json.dump(api_token, file)\n",
        "!chmod 600 ~/.kaggle/kaggle.json#ensuring that only the owner of the file has full read and write access to it.\n",
        "!--API--"
      ],
      "metadata": {
        "id": "cKu4OFKBxVmF"
      },
      "id": "cKu4OFKBxVmF",
      "execution_count": null,
      "outputs": []
    },
    {
      "cell_type": "markdown",
      "metadata": {
        "id": "cbb8d888"
      },
      "source": [
        "#  -- Downloading Module "
      ],
      "id": "cbb8d888"
    },
    {
      "cell_type": "code",
      "metadata": {
        "id": "e6598b9d"
      },
      "source": [
        "import sys\n",
        "!{sys.executable} -m pip install module"
      ],
      "id": "e6598b9d",
      "execution_count": null,
      "outputs": []
    },
    {
      "cell_type": "markdown",
      "source": [
        "## -- Plotting Multiple Columns"
      ],
      "metadata": {
        "id": "ROzoosPZRgTU"
      },
      "id": "ROzoosPZRgTU"
    },
    {
      "cell_type": "code",
      "source": [
        "# var_1=First Column\n",
        "# var_2=Second_Column\n",
        "ax=dataframe_name.plot(x=,y=var_1,kind=)\n",
        "dataframe_name.plot(x=,y=var_2,kind=,ax=)\n",
        "plt.show()"
      ],
      "metadata": {
        "id": "CI97jjjhRlq8"
      },
      "id": "CI97jjjhRlq8",
      "execution_count": null,
      "outputs": []
    },
    {
      "cell_type": "markdown",
      "metadata": {
        "id": "c3b6bd92"
      },
      "source": [
        "# -- Encoding Multiple columns"
      ],
      "id": "c3b6bd92"
    },
    {
      "cell_type": "code",
      "metadata": {
        "id": "3d3c52b5"
      },
      "source": [
        "from sklearn.preprocessing import LabelEncoder\n",
        "le=LabelEncoder()\n",
        "categ=[.,.,...]\n",
        "X[categ] = X[categ].apply(le.fit_transform)"
      ],
      "id": "3d3c52b5",
      "execution_count": null,
      "outputs": []
    },
    {
      "cell_type": "markdown",
      "metadata": {
        "id": "e32cbb8e"
      },
      "source": [
        "# -- Creating a CSV"
      ],
      "id": "e32cbb8e"
    },
    {
      "cell_type": "code",
      "metadata": {
        "id": "7f2261ee"
      },
      "source": [
        "output=pd.DataFrame({'Feature_name':values,'Feature_name':values})\n",
        "output.to_csv('name_of_file.csv')\n",
        "output"
      ],
      "id": "7f2261ee",
      "execution_count": null,
      "outputs": []
    },
    {
      "cell_type": "code",
      "metadata": {
        "id": "c25f2594"
      },
      "source": [
        "# Pandas dataframe.select_dtypes() function return a subset of the DataFrame’s columns based on the column dtypes. \n",
        "\n",
        "X = train_set.drop(['target'], axis=1).select_dtypes(exclude=['object'])"
      ],
      "id": "c25f2594",
      "execution_count": null,
      "outputs": []
    },
    {
      "cell_type": "markdown",
      "metadata": {
        "id": "7e985edc"
      },
      "source": [
        "# -- Use of Dropout"
      ],
      "id": "7e985edc"
    },
    {
      "cell_type": "code",
      "metadata": {
        "id": "0fa22822"
      },
      "source": [
        "The Dropout layer randomly sets input units to 0 with a frequency of rate \n",
        "at each step during training time, which helps prevent overfitting. \n",
        "Inputs not set to 0 are scaled up by 1/(1 - rate) such that the sum over all inputs is unchanged.\n",
        "\n",
        "tf.keras.layers.Dropout(rate, noise_shape=None, seed=None, **kwargs)"
      ],
      "id": "0fa22822",
      "execution_count": null,
      "outputs": []
    },
    {
      "cell_type": "markdown",
      "metadata": {
        "id": "f2c6e0b1"
      },
      "source": [
        "# -- Data-Augmentation"
      ],
      "id": "f2c6e0b1"
    },
    {
      "cell_type": "code",
      "metadata": {
        "id": "0df981b9"
      },
      "source": [
        "#ImageDataGenerator is one of the widely used augmentation techniques provided by keras \n",
        "#Code\n",
        "\n",
        "datagen=ImageDataGenerator(parameters)\n",
        "datagen.fit(X_train)\n",
        "model.fit(datagen.flow(x_train,Y_train,batch_size=))"
      ],
      "id": "0df981b9",
      "execution_count": null,
      "outputs": []
    },
    {
      "cell_type": "markdown",
      "metadata": {
        "id": "9e05bd04"
      },
      "source": [
        "# -- Saving Model"
      ],
      "id": "9e05bd04"
    },
    {
      "cell_type": "code",
      "metadata": {
        "id": "f34e1d77"
      },
      "source": [
        "import joblib\n",
        "joblib.dump(model,\"name\")\n",
        "#model like SVR,SVC,LogisticRegression....\n",
        "\n",
        "md=joblib.load(\"name\")\n",
        "md.fit(x,y)"
      ],
      "id": "f34e1d77",
      "execution_count": null,
      "outputs": []
    },
    {
      "cell_type": "markdown",
      "metadata": {
        "id": "8e7646a4"
      },
      "source": [
        "# -- isinstance(obj,class)"
      ],
      "id": "8e7646a4"
    },
    {
      "cell_type": "code",
      "metadata": {
        "id": "9d11dee2"
      },
      "source": [
        "Python isinstance() function returns True if the object is specified types,\n",
        "                                   and it will not match then return False\n",
        "\n",
        "ex -\n",
        "\n",
        "all(isinstance(column, str) for column in df_can.columns)"
      ],
      "id": "9d11dee2",
      "execution_count": null,
      "outputs": []
    },
    {
      "cell_type": "markdown",
      "metadata": {
        "id": "f8bc3c6d"
      },
      "source": [
        "# -- Feature Importance (RFC)"
      ],
      "id": "f8bc3c6d"
    },
    {
      "cell_type": "code",
      "metadata": {
        "id": "f37df47d"
      },
      "source": [
        "from sklearn.ensemble import RandomForestClassifier\n",
        "clf=RandomForestClassifier()\n",
        "clf.feature_importances_"
      ],
      "id": "f37df47d",
      "execution_count": null,
      "outputs": []
    },
    {
      "cell_type": "markdown",
      "metadata": {
        "id": "46fdeebe"
      },
      "source": [
        "# -- Use of set_index"
      ],
      "id": "46fdeebe"
    },
    {
      "cell_type": "code",
      "metadata": {
        "id": "8ef6038d"
      },
      "source": [
        "It is used for removing the default index in the dataframe\n",
        "code -\n",
        "\n",
        "df.set_index('column_name',inplace=True/False)"
      ],
      "id": "8ef6038d",
      "execution_count": null,
      "outputs": []
    },
    {
      "cell_type": "markdown",
      "metadata": {
        "id": "b661f3c7"
      },
      "source": [
        "<center><h1>Visualization</h1></center> "
      ],
      "id": "b661f3c7"
    },
    {
      "cell_type": "markdown",
      "metadata": {
        "id": "9a65ef15"
      },
      "source": [
        "# -- ViolinPlot"
      ],
      "id": "9a65ef15"
    },
    {
      "cell_type": "code",
      "metadata": {
        "id": "068c1eda"
      },
      "source": [
        "fig = seaborn.violinplot(x,y)"
      ],
      "id": "068c1eda",
      "execution_count": null,
      "outputs": []
    },
    {
      "cell_type": "markdown",
      "metadata": {
        "id": "0bc94d77"
      },
      "source": [
        "# -- pie chart"
      ],
      "id": "0bc94d77"
    },
    {
      "cell_type": "code",
      "metadata": {
        "id": "1e1ce7b3"
      },
      "source": [
        "plt.pie(x,labels)"
      ],
      "id": "1e1ce7b3",
      "execution_count": null,
      "outputs": []
    },
    {
      "cell_type": "markdown",
      "metadata": {
        "id": "35ee4cb8"
      },
      "source": [
        "# -- Colors"
      ],
      "id": "35ee4cb8"
    },
    {
      "cell_type": "code",
      "metadata": {
        "id": "9089511f"
      },
      "source": [
        "For a full listing of colors available in Matplotlib, run the following code in your python shell:\n",
        "\n",
        "import matplotlib\n",
        "for name, hex in matplotlib.colors.cnames.items():\n",
        "    print(name, hex)"
      ],
      "id": "9089511f",
      "execution_count": null,
      "outputs": []
    },
    {
      "cell_type": "code",
      "metadata": {
        "id": "F9ybH3UyGsSR"
      },
      "source": [
        "ex - \n",
        "colors=['#d45d00','#ff9100','#eaaa00','#6d6875']"
      ],
      "id": "F9ybH3UyGsSR",
      "execution_count": null,
      "outputs": []
    },
    {
      "cell_type": "markdown",
      "metadata": {
        "id": "XHxv3dwJFmUm"
      },
      "source": [
        "# -- Colors(Matplotlib)"
      ],
      "id": "XHxv3dwJFmUm"
    },
    {
      "cell_type": "markdown",
      "metadata": {
        "id": "WEowTykV_fOw"
      },
      "source": [
        "<img title=\"\" alt=\"ventilator diagram\" src=https://matplotlib.org/3.1.0/_images/sphx_glr_named_colors_003.png style=\"user-select: auto;\">"
      ],
      "id": "WEowTykV_fOw"
    },
    {
      "cell_type": "code",
      "metadata": {
        "id": "muMzdd3dF135"
      },
      "source": [],
      "id": "muMzdd3dF135",
      "execution_count": null,
      "outputs": []
    },
    {
      "cell_type": "code",
      "metadata": {
        "id": "EMtLYrOF_mjP"
      },
      "source": [
        "# Diverging Maps colormap\n",
        "\n",
        "cmaps['Diverging'] = [\n",
        "            'PiYG', 'PRGn', 'BrBG', 'PuOr', 'RdGy', 'RdBu',\n",
        "            'RdYlBu', 'RdYlGn', 'Spectral', 'coolwarm', 'bwr', 'seismic']"
      ],
      "id": "EMtLYrOF_mjP",
      "execution_count": null,
      "outputs": []
    },
    {
      "cell_type": "markdown",
      "metadata": {
        "id": "47057dc8"
      },
      "source": [
        "# -- missingno"
      ],
      "id": "47057dc8"
    },
    {
      "cell_type": "code",
      "metadata": {
        "id": "ba0d14aa"
      },
      "source": [
        "Missingno is an excellent and simple to use Python library\n",
        "that provides a series of visualisations to understand the \n",
        "presence and distribution of missing data within a pandas dataframe.\n",
        "\n",
        "ex - \n",
        "\n",
        "import missingno as msno\n",
        "msno.bar(dataframe,fontsize=12,figsize=(20,10))\n",
        "plt.show()"
      ],
      "id": "ba0d14aa",
      "execution_count": null,
      "outputs": []
    },
    {
      "cell_type": "markdown",
      "metadata": {
        "id": "yaL4dsg3RZlc"
      },
      "source": [
        "# -- Palettes(Seaborn)"
      ],
      "id": "yaL4dsg3RZlc"
    },
    {
      "cell_type": "code",
      "metadata": {
        "id": "OJxLKVIvRFsY"
      },
      "source": [
        "'Accent', 'Accent_r', 'Blues', 'Blues_r', 'BrBG', 'BrBG_r', 'BuGn', 'BuGn_r',\n",
        "'BuPu', 'BuPu_r', 'CMRmap', 'CMRmap_r', 'Dark2', 'Dark2_r', 'GnBu', 'GnBu_r',\n",
        "'Greens', 'Greens_r', 'Greys', 'Greys_r', 'OrRd', 'OrRd_r', 'Oranges', 'Oranges_r',\n",
        "'PRGn', 'PRGn_r', 'Paired', 'Paired_r', 'Pastel1', 'Pastel1_r', 'Pastel2', 'Pastel2_r',\n",
        "'PiYG', 'PiYG_r', 'PuBu', 'PuBuGn', 'PuBuGn_r', 'PuBu_r', 'PuOr', 'PuOr_r', 'PuRd', \n",
        "'PuRd_r', 'Purples', 'Purples_r', 'RdBu', 'RdBu_r', 'RdGy', 'RdGy_r', 'RdPu', 'RdPu_r',\n",
        "'RdYlBu', 'RdYlBu_r', 'RdYlGn', 'RdYlGn_r', 'Reds', 'Reds_r', 'Set1', 'Set1_r', 'Set2', \n",
        "'Set2_r', 'Set3', 'Set3_r', 'Spectral', 'Spectral_r', 'Wistia', 'Wistia_r', 'YlGn', \n",
        "'YlGnBu', 'YlGnBu_r', 'YlGn_r', 'YlOrBr', 'YlOrBr_r', 'YlOrRd', 'YlOrRd_r', 'afmhot', 'afmhot_r', \n",
        "'autumn', 'autumn_r', 'binary', 'binary_r', 'bone', 'bone_r', 'brg', 'brg_r', 'bwr', 'bwr_r', 'cividis', \n",
        "'cividis_r', 'cool', 'cool_r', 'coolwarm', 'coolwarm_r', 'copper', 'copper_r', 'crest', 'crest_r', \n",
        "'cubehelix', 'cubehelix_r', 'flag', 'flag_r', 'flare', 'flare_r', 'gist_earth', 'gist_earth_r', \n",
        "'gist_gray', 'gist_gray_r', 'gist_heat', 'gist_heat_r', 'gist_ncar', 'gist_ncar_r', 'gist_rainbow', \n",
        "'gist_rainbow_r', 'gist_stern', 'gist_stern_r', 'gist_yarg', 'gist_yarg_r', 'gnuplot', 'gnuplot2', \n",
        "'gnuplot2_r', 'gnuplot_r', 'gray', 'gray_r', 'hot', 'hot_r', 'hsv', 'hsv_r', 'icefire', 'icefire_r', 'inferno', 'inferno_r', 'jet', 'jet_r',"
      ],
      "id": "OJxLKVIvRFsY",
      "execution_count": null,
      "outputs": []
    },
    {
      "cell_type": "markdown",
      "metadata": {
        "id": "ae1c36ab"
      },
      "source": [
        "<center><h2>Extra</h2></center> "
      ],
      "id": "ae1c36ab"
    },
    {
      "cell_type": "markdown",
      "metadata": {
        "id": "1790cb3f"
      },
      "source": [
        "<b>Links</b>"
      ],
      "id": "1790cb3f"
    },
    {
      "cell_type": "markdown",
      "metadata": {
        "id": "552f2cf9"
      },
      "source": [
        "Matplotlib - <b>https://matplotlib.org/stable/#</b><br>\n",
        "Seaborn - <b>https://seaborn.pydata.org/</b>"
      ],
      "id": "552f2cf9"
    },
    {
      "cell_type": "code",
      "metadata": {
        "id": "40b0dc9d"
      },
      "source": [
        "df['column']                  # returns series\n",
        "df[['column 1', 'column 2']]  # returns dataframe"
      ],
      "id": "40b0dc9d",
      "execution_count": null,
      "outputs": []
    },
    {
      "cell_type": "code",
      "metadata": {
        "id": "1649057c"
      },
      "source": [
        "df_can.loc['index', [column_1,column_2,column_3....]]\n",
        "\n",
        "ex - 1) df_can.iloc[87, [3, 4, 5, 6, 7, 8]]\n",
        "     2) df_can.loc['Japan', [1980, 1981, 1982, 1983, 1984, 1984]]"
      ],
      "id": "1649057c",
      "execution_count": null,
      "outputs": []
    },
    {
      "cell_type": "code",
      "metadata": {
        "id": "f11acc7c"
      },
      "source": [],
      "id": "f11acc7c",
      "execution_count": null,
      "outputs": []
    }
  ]
}